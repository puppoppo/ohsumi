{
 "cells": [
  {
   "cell_type": "code",
   "execution_count": 1,
   "metadata": {},
   "outputs": [
    {
     "name": "stdout",
     "output_type": "stream",
     "text": [
      "Longest sequence length: 59\n",
      "Longest sequence:\n",
      "MHFILDPEDPGAPQASTEGKPKHRRLRGGVVMAAPPARPDHTRLLQICLLLGVLVEIRA\n"
     ]
    }
   ],
   "source": [
    "def read_fasta(filename):\n",
    "    sequences = {}\n",
    "    current_sequence = None\n",
    "    with open(filename, 'r') as f:\n",
    "        for line in f:\n",
    "            line = line.strip()\n",
    "            if line.startswith('>'):\n",
    "                current_sequence = line[1:]\n",
    "                sequences[current_sequence] = ''\n",
    "            else:\n",
    "                sequences[current_sequence] += line\n",
    "    return sequences\n",
    "\n",
    "def longest_sequence(fasta_file):\n",
    "    sequences = read_fasta(fasta_file)\n",
    "    longest_length = 0\n",
    "    for name, sequence in sequences.items():\n",
    "        if len(sequence) > longest_length:\n",
    "            longest_length = len(sequence)\n",
    "    return longest_length\n",
    "\n",
    "fasta_file = 'signalLength.tsv'\n",
    "length = longest_sequence(fasta_file)\n",
    "print(\"Longest sequence length:\", length)\n"
   ]
  }
 ],
 "metadata": {
  "kernelspec": {
   "display_name": "Python 3",
   "language": "python",
   "name": "python3"
  },
  "language_info": {
   "codemirror_mode": {
    "name": "ipython",
    "version": 3
   },
   "file_extension": ".py",
   "mimetype": "text/x-python",
   "name": "python",
   "nbconvert_exporter": "python",
   "pygments_lexer": "ipython3",
   "version": "3.8.10"
  }
 },
 "nbformat": 4,
 "nbformat_minor": 2
}
